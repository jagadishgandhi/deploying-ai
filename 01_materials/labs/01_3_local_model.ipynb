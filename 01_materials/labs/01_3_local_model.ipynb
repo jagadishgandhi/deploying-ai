{
 "cells": [
  {
   "cell_type": "markdown",
   "id": "391397a5",
   "metadata": {},
   "source": [
    "# LM Studio\n",
    "\n",
    " LM Studio is a powerful platform designed for working with large language models (LLMs) on your local machine. It provides an intuitive interface for downloading, managing, and running a wide variety of open-source LLMs.\n",
    "\n",
    "A few characteristics of LM Studio are:\n",
    "\n",
    "+ With LM Studio, users can experiment with different models, customize their settings, and interact with them in real time.\n",
    "+ The platform supports both CPU and GPU acceleration, making it accessible for a range of hardware configurations.\n",
    "+ LM Studio is ideal for developers, researchers, and enthusiasts who want to explore the capabilities of LLMs without relying on cloud-based solutions.\n",
    "\n",
    "You can download and install LMStudio from [lmstudio.ai](https://lmstudio.ai/).\n",
    "\n"
   ]
  },
  {
   "cell_type": "markdown",
   "id": "2e751e18",
   "metadata": {},
   "source": [
    "## LM Studio API\n",
    "\n",
    "An important characteristic in LM Studio is its support for OpenAI's API:\n",
    "\n",
    "+ LM Studio accepts requests on several OpenAI endpoints and returns OpenAI-like response objects ([lmstudio.ai](https://platform.openai.com/docs/guides/prompt-engineering#message-roles-and-instruction-following)).\n",
    "+ This means that we can reuse our code by pointing the local API using the `base_url` parameter."
   ]
  },
  {
   "cell_type": "markdown",
   "id": "fbc96b0b",
   "metadata": {},
   "source": [
    "## Setup LM Studio\n",
    "\n",
    "+ Download and install LM Studio from [lmstudio.ai](https://lmstudio.ai/).\n",
    "+ Start the application.\n",
    "+ Select a model to load:\n",
    "\n",
    "    - From the developer tab, you can select a model from the top bar.\n",
    "    - Select a model, for example, `qwen/qwen3-4b-2507`.\n",
    "    - Start the server with the control on the top-left.\n",
    "\n",
    "![](./img/01_lmstudio.png)\n"
   ]
  },
  {
   "cell_type": "markdown",
   "id": "07f3a04b",
   "metadata": {},
   "source": [
    "With the setup above, we can simply point to the local server as indicated below. The API works similarly than with OpenAI, however, the underlynig model is running locally and it was not necessarily produced by OpenAI."
   ]
  },
  {
   "cell_type": "code",
   "execution_count": 16,
   "id": "b93f5989",
   "metadata": {},
   "outputs": [],
   "source": [
    "from openai import OpenAI\n",
    "client = OpenAI(base_url=\"http://127.0.0.1:1234/v1\", api_key=\"not-needed\")\n",
    "\n",
    "response = client.responses.create(\n",
    "    model = 'local-model',\n",
    "    input = 'How to convert miles to kilometers?',\n",
    ")"
   ]
  },
  {
   "cell_type": "code",
   "execution_count": null,
   "id": "a40bc61a",
   "metadata": {},
   "outputs": [
    {
     "name": "stdout",
     "output_type": "stream",
     "text": [
      "Converting miles to kilometers is a straightforward process, as it involves multiplying the distance value in miles by approximately 1.60934 — since one mile is equal to 1.60934 kilometers (exact conversion factor). Here's how you can convert any given number of miles into kilometers:\n",
      "\n",
      "Step-bythy procedure:\n",
      "1. Identify the distance in miles that needs conversion, for instance `x` miles. Let’s say we want to determine its equivalent in kilometres and our value is 5 miles (`x = 5`).\n",
      "2. Multiply this mileage by the precision factor (approximately equal to 1.60934): Thus, you perform:\n",
      "      `kilometers_equivalent`= ``mile * conversion_factor``   =>    kilometers_equivalent = x miles × 1.60934 km/miles`. In our case it would read as follows :    5 Miles × 1.60934 (km/Mile)\n",
      "3. The result is the equivalent distance in kilometres: Following this calculation, for example `kilometers_equivalent` = 8.0467 km if we were converting our above mentioned value of x=5 miles into kilometers by doing a multiplication as specified.   This gives you an approximation since one mile precisely equals to approximately about 1.60934 kilometer (the constant for conversion).\n",
      "    So the final output will be: Approximately `8.0 km` when converting our initial example of exactly `5 miles`. Note that this number has been rounded from 8.0472, as it's common to limit decimal place precision in practical conversions unless specifically required otherwise (like scientific calculations).\n",
      "    \n",
      "Here is a python function which automates the above-mentioned process:  \n",
      "```python\n",
      "def miles_to_km(miles):                    # Function accepts parameter for Miless \n",
      "    km = round(miles * 1.60934, 2)          # Multiply by conversion factor and round off to two decimal places (Optional)\n",
      "     return kilometer                # Return the resulting kilometres equivalent of given miles  \n",
      "```\n",
      "If you want precise results without any approximations or need further calculations based on these converted kilometers values; please consider not limiting your decimals during multiplication step as this eliminates potential information loss through round off errors. But for most common and casual conversions, an approximate conversion suffices where the minor precision deviation should be insignificantly impactful in outcome contextually speaking (i.e., road measurements or estimations of travel distance). \n",
      "    Please remember that such approximated methods serve mostly purposes like quick understanding rather than exact calculations particularly suited for precise scientific computations requiring more demanding accuracy levels, where you'd employ unrounded conversion factors instead in your multiplication steps as required by the contextual necessity.\n"
     ]
    }
   ],
   "source": [
    "# Python to Execute on Local Ollama Model. Start Ollama server before running this code.\n",
    "\n",
    "# Start Ollama service: ollama serve\n",
    "# Pull a model (in a new terminal): ollama pull qwen2.5:3b\n",
    "# Is Ollama running? curl http://localhost:11434\n",
    "\n",
    "from openai import OpenAI\n",
    "client = OpenAI(base_url=\"http://localhost:11434/v1\", api_key=\"not-needed\")\n",
    "\n",
    "response = client.chat.completions.create(\n",
    "    model='phi3.5:3.8b',  # or whatever model you have in Ollama\n",
    "    messages=[\n",
    "        {\"role\": \"user\", \"content\": \"How to convert miles to kilometers?\"}\n",
    "    ]\n",
    ")\n",
    "\n",
    "print(response.choices[0].message.content)"
   ]
  },
  {
   "cell_type": "code",
   "execution_count": 17,
   "id": "1d1a1fa2",
   "metadata": {},
   "outputs": [
    {
     "data": {
      "text/plain": [
       "'To convert miles to kilometers, use the conversion factor:\\n\\n**1 mile ≈ 1.60934 kilometers**\\n\\n### Steps to convert:\\n1. Take the number of miles.\\n2. Multiply it by 1.60934.\\n\\n### Example:\\nIf you have 5 miles:\\n5 × 1.60934 = 8.0467 kilometers\\n\\nSo, **5 miles ≈ 8.05 kilometers** (rounded to two decimal places).\\n\\n### Quick Rule of Thumb:\\nFor a rough estimate, you can remember:  \\n**\"One mile is about 1.6 kilometers.\"**\\n\\nThis is accurate enough for most everyday uses.\\n\\n✅ Final Answer:  \\n**Multiply miles by 1.60934 to get kilometers.**'"
      ]
     },
     "execution_count": 17,
     "metadata": {},
     "output_type": "execute_result"
    }
   ],
   "source": [
    "response.output_text"
   ]
  }
 ],
 "metadata": {
  "kernelspec": {
   "display_name": "deploying-ai-env (3.12.11)",
   "language": "python",
   "name": "python3"
  },
  "language_info": {
   "codemirror_mode": {
    "name": "ipython",
    "version": 3
   },
   "file_extension": ".py",
   "mimetype": "text/x-python",
   "name": "python",
   "nbconvert_exporter": "python",
   "pygments_lexer": "ipython3",
   "version": "3.12.11"
  }
 },
 "nbformat": 4,
 "nbformat_minor": 5
}
