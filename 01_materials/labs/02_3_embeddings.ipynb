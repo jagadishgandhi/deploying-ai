{
 "cells": [
  {
   "cell_type": "markdown",
   "id": "9ac9fa3b",
   "metadata": {},
   "source": [
    "# Representing Text\n",
    "\n",
    "We can represent text in many ways: character strings are a standard representation, but we can also create numerical representations of text. In this notebook we will discuss embeddings.\n",
    "\n",
    "## Features\n",
    "\n",
    "Features to any (machine learning) model can be continuous or categorical.\n",
    "\n",
    "- We use continuous features to represent numerical values: income, number of times the user clicked on a link, prices, etc.\n",
    "- Categorical features represent an instance of a class or category. They have a finite number of possible values: job title, genre of a movie, breed of a dog, etc.\n",
    "\n",
    "## Embeddings\n",
    "\n",
    "An **embedding** is a trained numerical representation of a categorical feature:\n",
    "\n",
    "- We use the word *trained* to highlight that embeddings are learned during model training.\n",
    "- Different models and training procedures can be used to obtained embeddings. Word2Vec and BERT embeddings, for example, are different and capture different characteristics of the features.\n",
    "\n",
    "[OpenAI's documentation](https://platform.openai.com/docs/guides/embeddings) include a few uses of embeddings:\n",
    "\n",
    "\n",
    "- Search: results are ranked by relevance to a query string.\n",
    "- Clustering:  text strings are grouped by similarity.\n",
    "- Recommendations:  items with related text strings are recommended.\n",
    "- Anomaly detection:  outliers with little relatedness are identified.\n",
    "- Diversity measurement: similarity distributions are analyze.\n",
    "- Classification: text strings are classified by their most similar label.\n",
    "\n",
    "## BERT Embeddings\n",
    "\n",
    "Bert embeddings are computed based on three ingredients discussed below:\n",
    "\n",
    "+ Token embeddings (also called word embeddings)\n",
    "+ Positional embeddings\n",
    "+ Token type embeddings (also called sentence embeddings)\n",
    "\n",
    "![](img/02_bert_architecture.png)"
   ]
  },
  {
   "cell_type": "markdown",
   "id": "d6f396f4",
   "metadata": {},
   "source": [
    "### Tokenization\n",
    "\n",
    "Embedding computations start with tokenization: representing the original text as tokens in a vocabulary. \n",
    "\n",
    "To illustrate the process, we can use the [`transformers`](https://huggingface.co/docs/transformers/en/index) library from [HuggingFace](https://huggingface.co/)."
   ]
  },
  {
   "cell_type": "code",
   "execution_count": 1,
   "id": "e0957363",
   "metadata": {},
   "outputs": [
    {
     "data": {
      "application/vnd.jupyter.widget-view+json": {
       "model_id": "244a57d76ae242a187056f9a98c8c95f",
       "version_major": 2,
       "version_minor": 0
      },
      "text/plain": [
       "tokenizer_config.json:   0%|          | 0.00/48.0 [00:00<?, ?B/s]"
      ]
     },
     "metadata": {},
     "output_type": "display_data"
    },
    {
     "data": {
      "application/vnd.jupyter.widget-view+json": {
       "model_id": "4b48251d7920413699e5f517e9c083bd",
       "version_major": 2,
       "version_minor": 0
      },
      "text/plain": [
       "vocab.txt:   0%|          | 0.00/232k [00:00<?, ?B/s]"
      ]
     },
     "metadata": {},
     "output_type": "display_data"
    },
    {
     "data": {
      "application/vnd.jupyter.widget-view+json": {
       "model_id": "e7ca56561c224f1e9b2ecc98d9c68c74",
       "version_major": 2,
       "version_minor": 0
      },
      "text/plain": [
       "tokenizer.json:   0%|          | 0.00/466k [00:00<?, ?B/s]"
      ]
     },
     "metadata": {},
     "output_type": "display_data"
    },
    {
     "data": {
      "application/vnd.jupyter.widget-view+json": {
       "model_id": "5dc8f22f2b6d4bf4991be24e08b5ab20",
       "version_major": 2,
       "version_minor": 0
      },
      "text/plain": [
       "config.json:   0%|          | 0.00/570 [00:00<?, ?B/s]"
      ]
     },
     "metadata": {},
     "output_type": "display_data"
    },
    {
     "name": "stdout",
     "output_type": "stream",
     "text": [
      "{'input_ids': [[101, 8870, 2024, 4569, 102]], 'token_type_ids': [[0, 0, 0, 0, 0]], 'attention_mask': [[1, 1, 1, 1, 1]]}\n"
     ]
    }
   ],
   "source": [
    "import transformers\n",
    "\n",
    "documents = [\"cats are fun\"]\n",
    "\n",
    "tokenizer = transformers.BertTokenizer.from_pretrained(\n",
    "    'bert-base-uncased')\n",
    "tokens = tokenizer(documents)\n",
    "print(tokens)\n"
   ]
  },
  {
   "cell_type": "markdown",
   "id": "30e29323",
   "metadata": {},
   "source": [
    "In the code snippet above, we used the `transformers` library to obtain the tokens that represent the phrase 'cats are fun'. The tokenizer returns a dictionary with an entry called `'input_ids'`, which contains an array of four integers. These integers are the positions of each token in the model's vocabulary. The vocabulary is [`'bert-base-uncased'`](https://huggingface.co/bert-base-uncased/blob/main/vocab.txt) and it is applied using the method `.from_pretrained()`.\n",
    "\n",
    "We can show the vocabulary entries with:"
   ]
  },
  {
   "cell_type": "code",
   "execution_count": null,
   "id": "e70b566b",
   "metadata": {},
   "outputs": [],
   "source": [
    "print(f\"Index of 'cats': {tokenizer.vocab['cats']}\")\n",
    "print(f\"Index of 'are': {tokenizer.vocab['are']}\")\n",
    "print(f\"Index of 'fun': {tokenizer.vocab['fun']}\")"
   ]
  },
  {
   "cell_type": "markdown",
   "id": "4f2161fa",
   "metadata": {},
   "source": [
    "IDs 101 and 102 are special tokens:\n",
    "\n",
    "- ID 101 is the `[CLS]` token, indicating the begginning of a sequence.\n",
    "- ID 102 is the `[SEP]` token, indicating the end of a sequence.\n",
    "\n",
    "They are inserted automatically to the output of the BERT tokenizer. The BERT Tokenizer includes 30,522 unique tokens. In addition, the BERT tokenizer handles unkown tokens, `[UNK]`, using techniques such as WordPiece. You can read more about this tokenizer in [BERT Tokenization (Nowak, 2023)](https://tinkerd.net/blog/machine-learning/bert-tokenization/) and Mastering Text Similarity ([Guadagnolo, 2024](https://medium.com/eni-digitalks/mastering-text-similarity-combining-embedding-techniques-and-distance-metrics-98d3bb80b1b6)).\n",
    "\n"
   ]
  },
  {
   "cell_type": "markdown",
   "id": "65a8c5e5",
   "metadata": {},
   "source": [
    "### Token Embeddings\n",
    "\n",
    "The tokens obtained from the previous step are mapped to the model's precomputed embeddings. For each token in the model vocabulary, there is an embedding vector.\n",
    "\n",
    "<div>\n",
    "<img src=\"img/02_skip_gram_architecture.png\" width=\"700\"/>\n",
    "</div>\n",
    "\n",
    "Image source: Mastering Text Similarity ([Guadagnolo, 2024](https://medium.com/eni-digitalks/mastering-text-similarity-combining-embedding-techniques-and-distance-metrics-98d3bb80b1b6))"
   ]
  },
  {
   "cell_type": "code",
   "execution_count": 2,
   "id": "fa04972f",
   "metadata": {},
   "outputs": [
    {
     "data": {
      "application/vnd.jupyter.widget-view+json": {
       "model_id": "e371592885884208b58350c0d19335bf",
       "version_major": 2,
       "version_minor": 0
      },
      "text/plain": [
       "model.safetensors:   0%|          | 0.00/440M [00:00<?, ?B/s]"
      ]
     },
     "metadata": {},
     "output_type": "display_data"
    },
    {
     "data": {
      "text/plain": [
       "Parameter containing:\n",
       "tensor([[-0.0102, -0.0615, -0.0265,  ..., -0.0199, -0.0372, -0.0098],\n",
       "        [-0.0117, -0.0600, -0.0323,  ..., -0.0168, -0.0401, -0.0107],\n",
       "        [-0.0198, -0.0627, -0.0326,  ..., -0.0165, -0.0420, -0.0032],\n",
       "        ...,\n",
       "        [-0.0218, -0.0556, -0.0135,  ..., -0.0043, -0.0151, -0.0249],\n",
       "        [-0.0462, -0.0565, -0.0019,  ...,  0.0157, -0.0139, -0.0095],\n",
       "        [ 0.0015, -0.0821, -0.0160,  ..., -0.0081, -0.0475,  0.0753]],\n",
       "       requires_grad=True)"
      ]
     },
     "execution_count": 2,
     "metadata": {},
     "output_type": "execute_result"
    }
   ],
   "source": [
    "model = transformers.BertModel.from_pretrained('bert-base-uncased')\n",
    "embedding_layer = model.embeddings\n",
    "embedding_layer.word_embeddings.weight"
   ]
  },
  {
   "cell_type": "code",
   "execution_count": 3,
   "id": "377eac68",
   "metadata": {},
   "outputs": [
    {
     "data": {
      "text/plain": [
       "torch.Size([30522, 768])"
      ]
     },
     "execution_count": 3,
     "metadata": {},
     "output_type": "execute_result"
    }
   ],
   "source": [
    "embedding_layer.word_embeddings.weight.shape"
   ]
  },
  {
   "cell_type": "markdown",
   "id": "40bdc2f8",
   "metadata": {},
   "source": [
    "The attribute `.weight` of the embedding layer shows the actual embeddings. It is a matrix of 30,522 rows and 768 columns (the object, in reality, is a 2-dimenional vector). \n",
    "\n",
    "+ The number of rows is equal to the size of the model vocabulary.\n",
    "+ The number of columns is the hidden size or the size of the model's internal representation. "
   ]
  },
  {
   "cell_type": "code",
   "execution_count": 4,
   "id": "bb201c80",
   "metadata": {},
   "outputs": [
    {
     "data": {
      "text/plain": [
       "[101, 8870, 2024, 4569, 102]"
      ]
     },
     "execution_count": 4,
     "metadata": {},
     "output_type": "execute_result"
    }
   ],
   "source": [
    "tokens = tokenizer(['cats are fun'])\n",
    "input_ids = tokens.input_ids[0]\n",
    "input_ids"
   ]
  },
  {
   "cell_type": "code",
   "execution_count": 5,
   "id": "ee568e0e",
   "metadata": {},
   "outputs": [
    {
     "data": {
      "text/plain": [
       "tensor([[ 0.0136, -0.0265, -0.0235,  ...,  0.0087,  0.0071,  0.0151],\n",
       "        [-0.0590, -0.0339,  0.0108,  ..., -0.0328, -0.0285,  0.0624],\n",
       "        [-0.0134, -0.0135,  0.0250,  ...,  0.0013, -0.0183,  0.0227],\n",
       "        [-0.0073, -0.0459,  0.0314,  ..., -0.0196, -0.0372, -0.0150],\n",
       "        [-0.0145, -0.0100,  0.0060,  ..., -0.0250,  0.0046, -0.0015]],\n",
       "       grad_fn=<IndexBackward0>)"
      ]
     },
     "execution_count": 5,
     "metadata": {},
     "output_type": "execute_result"
    }
   ],
   "source": [
    "doc_embeddings = embedding_layer.word_embeddings.weight[input_ids]\n",
    "doc_embeddings"
   ]
  },
  {
   "cell_type": "markdown",
   "id": "3245f57b",
   "metadata": {},
   "source": [
    "### Position Embeddings\n",
    "\n",
    "In addition to token embeddings, the BERT model also keeps track of positions through position embeddings. In contrast with token embeddings, position embeddings have shape (512, 768). This is because the BERT model can only take up to 512 tokens at a time."
   ]
  },
  {
   "cell_type": "code",
   "execution_count": 6,
   "id": "79c93640",
   "metadata": {},
   "outputs": [
    {
     "data": {
      "text/plain": [
       "Parameter containing:\n",
       "tensor([[ 1.7505e-02, -2.5631e-02, -3.6642e-02,  ...,  3.3437e-05,\n",
       "          6.8312e-04,  1.5441e-02],\n",
       "        [ 7.7580e-03,  2.2613e-03, -1.9444e-02,  ...,  2.8910e-02,\n",
       "          2.9753e-02, -5.3247e-03],\n",
       "        [-1.1287e-02, -1.9644e-03, -1.1573e-02,  ...,  1.4908e-02,\n",
       "          1.8741e-02, -7.3140e-03],\n",
       "        ...,\n",
       "        [ 1.7418e-02,  3.4903e-03, -9.5621e-03,  ...,  2.9599e-03,\n",
       "          4.3435e-04, -2.6949e-02],\n",
       "        [ 2.1687e-02, -6.0216e-03,  1.4736e-02,  ..., -5.6118e-03,\n",
       "         -1.2590e-02, -2.8085e-02],\n",
       "        [ 2.6413e-03, -2.3298e-02,  5.4922e-03,  ...,  1.7537e-02,\n",
       "          2.7550e-02, -7.7656e-02]], requires_grad=True)"
      ]
     },
     "execution_count": 6,
     "metadata": {},
     "output_type": "execute_result"
    }
   ],
   "source": [
    "embedding_layer.position_embeddings.weight"
   ]
  },
  {
   "cell_type": "code",
   "execution_count": 7,
   "id": "face8a02",
   "metadata": {},
   "outputs": [
    {
     "data": {
      "text/plain": [
       "torch.Size([512, 768])"
      ]
     },
     "execution_count": 7,
     "metadata": {},
     "output_type": "execute_result"
    }
   ],
   "source": [
    "embedding_layer.position_embeddings.weight.shape"
   ]
  },
  {
   "cell_type": "markdown",
   "id": "b8877b28",
   "metadata": {},
   "source": [
    "### Token Type Embeddings\n",
    "\n",
    "Token or Segment Type embeddings. BERT was trained to solve Next Sentence Prediciton. Given two sentences, A and B, BERT was trained to determine if B logically follows A."
   ]
  },
  {
   "cell_type": "code",
   "execution_count": 8,
   "id": "b911e1e9",
   "metadata": {},
   "outputs": [
    {
     "data": {
      "text/plain": [
       "Embedding(2, 768)"
      ]
     },
     "execution_count": 8,
     "metadata": {},
     "output_type": "execute_result"
    }
   ],
   "source": [
    "embedding_layer.token_type_embeddings"
   ]
  },
  {
   "cell_type": "markdown",
   "id": "68852cee",
   "metadata": {},
   "source": [
    "### The Embedding Layer\n",
    "\n",
    "The embedding layer takes a list of token ids and converts them to embeddings that combine the three types discussed above: token, position, and type embeddings."
   ]
  },
  {
   "cell_type": "code",
   "execution_count": 9,
   "id": "b424e2e8",
   "metadata": {},
   "outputs": [
    {
     "data": {
      "text/plain": [
       "tensor([[[ 0.1686, -0.2858, -0.3261,  ..., -0.0276,  0.0383,  0.1640],\n",
       "         [-0.4827,  0.0312,  0.3199,  ...,  0.1614,  0.3668,  1.2662],\n",
       "         [-0.2330,  0.1164,  0.5087,  ...,  0.3019,  0.1804,  0.3744],\n",
       "         [ 0.1432, -0.4452,  0.5792,  ...,  0.2212, -0.2110, -0.0521],\n",
       "         [-0.3643, -0.1617,  0.0902,  ..., -0.1785,  0.1282, -0.0451]]],\n",
       "       grad_fn=<NativeLayerNormBackward0>)"
      ]
     },
     "execution_count": 9,
     "metadata": {},
     "output_type": "execute_result"
    }
   ],
   "source": [
    "import torch\n",
    "tokens = tokenizer(['cats are fun'])\n",
    "final_embeddings = embedding_layer(input_ids = torch.tensor(tokens.input_ids))\n",
    "final_embeddings"
   ]
  }
 ],
 "metadata": {
  "kernelspec": {
   "display_name": "deploying-ai-env (3.12.11)",
   "language": "python",
   "name": "python3"
  },
  "language_info": {
   "codemirror_mode": {
    "name": "ipython",
    "version": 3
   },
   "file_extension": ".py",
   "mimetype": "text/x-python",
   "name": "python",
   "nbconvert_exporter": "python",
   "pygments_lexer": "ipython3",
   "version": "3.12.11"
  }
 },
 "nbformat": 4,
 "nbformat_minor": 5
}
